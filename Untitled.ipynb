{
 "cells": [
  {
   "cell_type": "code",
   "execution_count": null,
   "metadata": {},
   "outputs": [],
   "source": [
    "import random\n",
    "import numpy as np\n",
    "import matplotlib.pyplot as plt"
   ]
  },
  {
   "cell_type": "code",
   "execution_count": null,
   "metadata": {},
   "outputs": [],
   "source": [
    "Opt_acc_polulation = np.array([[1246932.3812055923, 2336393.9270101017, 0.18180582842323767],\n",
    "                              [1236323.755571627, 2366983.7753194147, 0.19423846193888006],\n",
    "                               [1236980.8502002435, 2858227.639549954, 0.3296833544441248],\n",
    "                               [1253614.1025316056, 3036198.67631469, 0.33469321493216],\n",
    "                               [1253783.6455231449, 3282804.873409917, 0.38384169251471245],\n",
    "                               [1243920.5661731358, 2836647.8257772643, 0.3045418121675929]\n",
    "                              ])"
   ]
  },
  {
   "cell_type": "code",
   "execution_count": null,
   "metadata": {},
   "outputs": [],
   "source": [
    "Random_acc_polulation = np.array([[1227705.999708577, 1836012.3664750396, 0.05243311455671262],\n",
    "                               [1219393.923649413, 1794081.4447531097, 0.050789058120509045],\n",
    "                                  [1221702.9505924378, 2003216.7533093572, 0.128168156831452],\n",
    "                                  [1251679.8652202203, 2018366.6219371222, 0.11175868025495717],\n",
    "                                  [1233236.5809035436, 2159030.8391046114, 0.19013428199984883],\n",
    "                                  [1233059.5695176916, 2327572.2784883175, 0.23262335767276487]\n",
    "                                 ])"
   ]
  },
  {
   "cell_type": "code",
   "execution_count": null,
   "metadata": {},
   "outputs": [],
   "source": [
    "Initial_ = np.array([1178416.765128996, 1691922.1054063912, 0.03398043320941113])"
   ]
  },
  {
   "cell_type": "code",
   "execution_count": null,
   "metadata": {},
   "outputs": [],
   "source": [
    "x = np.array([400,500,550,600,650,700])"
   ]
  },
  {
   "cell_type": "code",
   "execution_count": null,
   "metadata": {},
   "outputs": [],
   "source": [
    "Opt_acc_polulation[:,0]"
   ]
  },
  {
   "cell_type": "code",
   "execution_count": null,
   "metadata": {},
   "outputs": [],
   "source": [
    "Random_acc_polulation[:,0]"
   ]
  },
  {
   "cell_type": "code",
   "execution_count": null,
   "metadata": {},
   "outputs": [],
   "source": [
    "plt.plot(x,Opt_acc_polulation[:,0],color='red',label = 'Greedy')\n",
    "plt.plot(x,Random_acc_polulation[:,0],color='black',label = 'Random')\n",
    "plt.plot(x,np.array([Initial_[0] for i in range(len(x))]),color='black',label = 'Initial',linestyle='--')\n",
    "plt.xlabel('Nb of DRTs')\n",
    "plt.ylabel('10% worst people average acc')\n",
    "plt.legend()\n",
    "plt.show()"
   ]
  },
  {
   "cell_type": "code",
   "execution_count": null,
   "metadata": {},
   "outputs": [],
   "source": [
    "#plt.plot(x,Opt_acc_polulation[:,1],color='red',label = 'Greedy')\n",
    "#plt.plot(x,Random_acc_polulation[:,1],color='black',label = 'Random')\n",
    "#plt.plot(x,np.array([Initial_[1] for i in range(len(x))]),color='black',label = 'Initial',linestyle='--')\n",
    "#plt.xlabel('Nb of DRTs')\n",
    "#plt.ylabel('average acc')\n",
    "#plt.legend()\n",
    "#plt.show()"
   ]
  },
  {
   "cell_type": "code",
   "execution_count": null,
   "metadata": {},
   "outputs": [],
   "source": [
    "plt.plot(x,Opt_acc_polulation[:,2],color='red',label = 'Greedy')\n",
    "plt.plot(x,Random_acc_polulation[:,2],color='black',label = 'Random')\n",
    "plt.plot(x,np.array([Initial_[2] for i in range(len(x))]),color='black',label = 'Initial',linestyle='--')\n",
    "plt.legend()\n",
    "plt.xlabel('Nb of DRTs')\n",
    "plt.ylabel('Atkinson')\n",
    "plt.show()"
   ]
  }
 ],
 "metadata": {
  "kernelspec": {
   "display_name": "Python 3",
   "language": "python",
   "name": "python3"
  },
  "language_info": {
   "codemirror_mode": {
    "name": "ipython",
    "version": 3
   },
   "file_extension": ".py",
   "mimetype": "text/x-python",
   "name": "python",
   "nbconvert_exporter": "python",
   "pygments_lexer": "ipython3",
   "version": "3.7.1"
  }
 },
 "nbformat": 4,
 "nbformat_minor": 2
}
