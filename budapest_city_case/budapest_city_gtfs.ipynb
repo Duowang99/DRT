{
 "cells": [
  {
   "cell_type": "code",
   "execution_count": 1,
   "id": "9303a419",
   "metadata": {},
   "outputs": [],
   "source": [
    "# import agent\n",
    "# import environment\n",
    "# import runner\n",
    "#import graph\n",
    "#import bus_line\n",
    "import numpy as np\n",
    "import networkx as nx\n",
    "import sys\n",
    "import random\n",
    "import pylab \n",
    "import matplotlib.pyplot as plt\n",
    "import math"
   ]
  },
  {
   "cell_type": "code",
   "execution_count": 2,
   "id": "a5e89df1",
   "metadata": {},
   "outputs": [],
   "source": [
    "location_route_1 = [[19.050593, 47.496737],\n",
    " [19.054142, 47.497728],\n",
    " [19.055655, 47.499937],\n",
    " [19.059161, 47.502305],\n",
    " [19.063233, 47.505023],\n",
    " [19.066529, 47.507238],\n",
    " [19.069544, 47.509261],\n",
    " [19.072662, 47.511342],\n",
    " [19.076883, 47.51411],\n",
    " [19.081481, 47.517407],\n",
    " [19.091037, 47.519513]]"
   ]
  },
  {
   "cell_type": "code",
   "execution_count": 3,
   "id": "414e9a4b",
   "metadata": {},
   "outputs": [],
   "source": [
    "time_1 = list(np.array([1,2,1,1,1,1,1,1,2,2])/60)"
   ]
  },
  {
   "cell_type": "code",
   "execution_count": 4,
   "id": "c296b78e",
   "metadata": {},
   "outputs": [],
   "source": [
    "location_route_2 = [[19.024604, 47.50045],\n",
    " [19.026097, 47.507533],\n",
    " [19.038103, 47.506826],\n",
    " [19.045769, 47.505511],\n",
    " [19.053857, 47.497593],\n",
    " [19.062457, 47.494825],\n",
    " [19.070274, 47.497006],\n",
    " [19.082881, 47.499683],\n",
    " [19.106381, 47.500174],\n",
    " [19.120417, 47.501204],\n",
    " [19.135963, 47.502922]]"
   ]
  },
  {
   "cell_type": "code",
   "execution_count": 5,
   "id": "d5371a20",
   "metadata": {},
   "outputs": [],
   "source": [
    "time_2 = list(np.array([2,2,2,2,2,2,2,2,2,2])/60)"
   ]
  },
  {
   "cell_type": "code",
   "execution_count": 6,
   "id": "a0e17a57",
   "metadata": {},
   "outputs": [],
   "source": [
    "location_route_3 = [[19.08976, 47.560437],\n",
    " [19.079567, 47.559146],\n",
    " [19.073019, 47.548374],\n",
    " [19.069055, 47.538163],\n",
    " [19.066471, 47.532171],\n",
    " [19.063088, 47.524358],\n",
    " [19.060285, 47.517595],\n",
    " [19.055952, 47.510828],\n",
    " [19.054513, 47.50367],\n",
    " [19.054525, 47.497591],\n",
    " [19.056789, 47.49182],\n",
    " [19.06192, 47.48949],\n",
    " [19.072242, 47.484862],\n",
    " [19.078425, 47.482872],\n",
    " [19.091071, 47.478365],\n",
    " [19.100672, 47.474913],\n",
    " [19.111646, 47.470529],\n",
    " [19.118838, 47.467939],\n",
    " [19.126228, 47.465749],\n",
    " [19.148764, 47.463443]]"
   ]
  },
  {
   "cell_type": "code",
   "execution_count": 7,
   "id": "0ca9a2aa",
   "metadata": {},
   "outputs": [],
   "source": [
    "time_3 = list(np.array([2,2,2,2,2,2,2,2,2,12,1,2,1,2,2,2,1,1,2])/60)"
   ]
  },
  {
   "cell_type": "code",
   "execution_count": 8,
   "id": "22c3a204",
   "metadata": {},
   "outputs": [],
   "source": [
    "location_route_4 = [[19.020587, 47.464255],\n",
    " [19.033386, 47.465022],\n",
    " [19.046266, 47.473559],\n",
    " [19.047645, 47.47731],\n",
    " [19.055036, 47.483039],\n",
    " [19.058009, 47.486169],\n",
    " [19.061938, 47.489245],\n",
    " [19.072489, 47.49276],\n",
    " [19.077707, 47.496078],\n",
    " [19.081704, 47.500485]]"
   ]
  },
  {
   "cell_type": "code",
   "execution_count": 9,
   "id": "27bea103",
   "metadata": {},
   "outputs": [],
   "source": [
    "time_4 = list(np.array([2,2,1,2,1,1,2,1,1])/60)"
   ]
  },
  {
   "cell_type": "code",
   "execution_count": 10,
   "id": "601f1574",
   "metadata": {},
   "outputs": [],
   "source": [
    "#len(location_route_1)\n",
    "#len(location_route_2)\n",
    "#len(location_route_4)\n",
    "#len(location_route_5)"
   ]
  },
  {
   "cell_type": "code",
   "execution_count": 11,
   "id": "be5c43da",
   "metadata": {},
   "outputs": [],
   "source": [
    "all_edge = [(i,i+1) for i in range(51) if i!= 10 and i!= 21 and i!= 41]"
   ]
  },
  {
   "cell_type": "code",
   "execution_count": 12,
   "id": "3e7abe96",
   "metadata": {
    "scrolled": true
   },
   "outputs": [],
   "source": [
    "all_pos = location_route_1+location_route_2+location_route_3+location_route_4"
   ]
  },
  {
   "cell_type": "code",
   "execution_count": 13,
   "id": "52f49cfd",
   "metadata": {},
   "outputs": [],
   "source": [
    "#len(all_pos)"
   ]
  },
  {
   "cell_type": "code",
   "execution_count": 14,
   "id": "b36f74eb",
   "metadata": {},
   "outputs": [
    {
     "data": {
      "text/plain": [
       "array([19.07106385, 47.49970317])"
      ]
     },
     "execution_count": 14,
     "metadata": {},
     "output_type": "execute_result"
    }
   ],
   "source": [
    "np.mean(all_pos,axis=0)"
   ]
  },
  {
   "cell_type": "code",
   "execution_count": 15,
   "id": "de21600e",
   "metadata": {},
   "outputs": [
    {
     "data": {
      "text/plain": [
       "array([19.020587, 47.463443])"
      ]
     },
     "execution_count": 15,
     "metadata": {},
     "output_type": "execute_result"
    }
   ],
   "source": [
    "np.min(all_pos,axis=0)"
   ]
  },
  {
   "cell_type": "code",
   "execution_count": 16,
   "id": "6fc76095",
   "metadata": {},
   "outputs": [
    {
     "data": {
      "text/plain": [
       "array([19.148764, 47.560437])"
      ]
     },
     "execution_count": 16,
     "metadata": {},
     "output_type": "execute_result"
    }
   ],
   "source": [
    "np.max(all_pos,axis=0)"
   ]
  },
  {
   "cell_type": "code",
   "execution_count": 17,
   "id": "ad7cffcc",
   "metadata": {},
   "outputs": [],
   "source": [
    "new_all_pos = (all_pos-np.mean(all_pos,axis=0)) * 110 # km"
   ]
  },
  {
   "cell_type": "code",
   "execution_count": 18,
   "id": "eb145b59",
   "metadata": {},
   "outputs": [],
   "source": [
    "#new_all_pos[:,0] = -new_all_pos[:,0]"
   ]
  },
  {
   "cell_type": "code",
   "execution_count": 19,
   "id": "8c0bb23a",
   "metadata": {},
   "outputs": [],
   "source": [
    "#new_all_pos = new_all_pos.dot(np.array([[0,-1],[1,0]]))"
   ]
  },
  {
   "cell_type": "code",
   "execution_count": 20,
   "id": "a0cc5926",
   "metadata": {},
   "outputs": [
    {
     "data": {
      "text/plain": [
       "array([-5.55245308, -3.98861904])"
      ]
     },
     "execution_count": 20,
     "metadata": {},
     "output_type": "execute_result"
    }
   ],
   "source": [
    "np.min(new_all_pos,axis=0)"
   ]
  },
  {
   "cell_type": "code",
   "execution_count": 21,
   "id": "1fa30fad",
   "metadata": {},
   "outputs": [],
   "source": [
    "# 25 km x 25 km + (10,15)\n",
    "new_all_pos = new_all_pos + np.array( [6,4] )"
   ]
  },
  {
   "cell_type": "code",
   "execution_count": 22,
   "id": "aa8b38e8",
   "metadata": {},
   "outputs": [
    {
     "data": {
      "text/plain": [
       "array([14.54701692, 10.68072096])"
      ]
     },
     "execution_count": 22,
     "metadata": {},
     "output_type": "execute_result"
    }
   ],
   "source": [
    "np.max(new_all_pos,axis=0)"
   ]
  },
  {
   "cell_type": "code",
   "execution_count": 23,
   "id": "c9419673",
   "metadata": {},
   "outputs": [
    {
     "data": {
      "text/plain": [
       "array([0.44754692, 0.01138096])"
      ]
     },
     "execution_count": 23,
     "metadata": {},
     "output_type": "execute_result"
    }
   ],
   "source": [
    "np.min(new_all_pos,axis=0)"
   ]
  },
  {
   "cell_type": "code",
   "execution_count": 24,
   "id": "0b103f8d",
   "metadata": {},
   "outputs": [],
   "source": [
    "route_1 = new_all_pos[:11]"
   ]
  },
  {
   "cell_type": "code",
   "execution_count": 25,
   "id": "5e7949c8",
   "metadata": {},
   "outputs": [
    {
     "data": {
      "text/plain": [
       "array([[3.74820692, 3.67372096],\n",
       "       [4.13859692, 3.78273096],\n",
       "       [4.30502692, 4.02572096],\n",
       "       [4.69068692, 4.28620096],\n",
       "       [5.13860692, 4.58518096],\n",
       "       [5.50116692, 4.82883096],\n",
       "       [5.83281692, 5.05136096],\n",
       "       [6.17579692, 5.28027096],\n",
       "       [6.64010692, 5.58475096],\n",
       "       [7.14588692, 5.94742096],\n",
       "       [8.19704692, 6.17908096]])"
      ]
     },
     "execution_count": 25,
     "metadata": {},
     "output_type": "execute_result"
    }
   ],
   "source": [
    "route_1"
   ]
  },
  {
   "cell_type": "code",
   "execution_count": 26,
   "id": "8b0368ae",
   "metadata": {},
   "outputs": [],
   "source": [
    "route_2 = new_all_pos[11:22]"
   ]
  },
  {
   "cell_type": "code",
   "execution_count": 39,
   "id": "9d3aa014",
   "metadata": {},
   "outputs": [
    {
     "data": {
      "text/plain": [
       "array([[ 0.88941692,  4.08215096],\n",
       "       [ 1.05364692,  4.86128096],\n",
       "       [ 2.37430692,  4.78351096],\n",
       "       [ 3.21756692,  4.63886096],\n",
       "       [ 4.10724692,  3.76788096],\n",
       "       [ 5.05324692,  3.46340096],\n",
       "       [ 5.91311692,  3.70331096],\n",
       "       [ 7.29988692,  3.99778096],\n",
       "       [ 9.88488692,  4.05179096],\n",
       "       [11.42884692,  4.16509096],\n",
       "       [13.13890692,  4.35407096]])"
      ]
     },
     "execution_count": 39,
     "metadata": {},
     "output_type": "execute_result"
    }
   ],
   "source": [
    "route_2"
   ]
  },
  {
   "cell_type": "code",
   "execution_count": 27,
   "id": "b76efed0",
   "metadata": {},
   "outputs": [],
   "source": [
    "route_3 = new_all_pos[22:42]"
   ]
  },
  {
   "cell_type": "code",
   "execution_count": 40,
   "id": "2b933eff",
   "metadata": {},
   "outputs": [
    {
     "data": {
      "text/plain": [
       "array([[8.05657692e+00, 1.06807210e+01],\n",
       "       [6.93534692e+00, 1.05387110e+01],\n",
       "       [6.21506692e+00, 9.35379096e+00],\n",
       "       [5.77902692e+00, 8.23058096e+00],\n",
       "       [5.49478692e+00, 7.57146096e+00],\n",
       "       [5.12265692e+00, 6.71203096e+00],\n",
       "       [4.81432692e+00, 5.96810096e+00],\n",
       "       [4.33769692e+00, 5.22373096e+00],\n",
       "       [4.17940692e+00, 4.43635096e+00],\n",
       "       [4.18072692e+00, 3.76766096e+00],\n",
       "       [4.42976692e+00, 3.13285096e+00],\n",
       "       [4.99417692e+00, 2.87655096e+00],\n",
       "       [6.12959692e+00, 2.36747096e+00],\n",
       "       [6.80972692e+00, 2.14857096e+00],\n",
       "       [8.20078692e+00, 1.65280096e+00],\n",
       "       [9.25689692e+00, 1.27308096e+00],\n",
       "       [1.04640369e+01, 7.90840962e-01],\n",
       "       [1.12551569e+01, 5.05940962e-01],\n",
       "       [1.20680569e+01, 2.65040962e-01],\n",
       "       [1.45470169e+01, 1.13809615e-02]])"
      ]
     },
     "execution_count": 40,
     "metadata": {},
     "output_type": "execute_result"
    }
   ],
   "source": [
    "route_3"
   ]
  },
  {
   "cell_type": "code",
   "execution_count": 28,
   "id": "f89d37b7",
   "metadata": {},
   "outputs": [],
   "source": [
    "route_4 = new_all_pos[42:]"
   ]
  },
  {
   "cell_type": "code",
   "execution_count": 41,
   "id": "70f14b8e",
   "metadata": {},
   "outputs": [
    {
     "data": {
      "text/plain": [
       "array([[0.44754692, 0.10070096],\n",
       "       [1.85543692, 0.18507096],\n",
       "       [3.27223692, 1.12414096],\n",
       "       [3.42392692, 1.53675096],\n",
       "       [4.23693692, 2.16694096],\n",
       "       [4.56396692, 2.51124096],\n",
       "       [4.99615692, 2.84960096],\n",
       "       [6.15676692, 3.23625096],\n",
       "       [6.73074692, 3.60123096],\n",
       "       [7.17041692, 4.08600096]])"
      ]
     },
     "execution_count": 41,
     "metadata": {},
     "output_type": "execute_result"
    }
   ],
   "source": [
    "route_4"
   ]
  },
  {
   "cell_type": "code",
   "execution_count": 29,
   "id": "d9afac74",
   "metadata": {},
   "outputs": [
    {
     "data": {
      "image/png": "[encoded data removed]",
      "text/plain": [
       "<Figure size 1600x1600 with 1 Axes>"
      ]
     },
     "metadata": {},
     "output_type": "display_data"
    }
   ],
   "source": [
    "g = nx.DiGraph()\n",
    "\n",
    "g.add_nodes_from([i for i in range(52)])\n",
    "\n",
    "g.add_edges_from(all_edge)\n",
    "\n",
    "node_color=[\"y\" for i in range(11)]+[\"r\" for i in range(11)]+[\"blue\" for i in range(20)]+[\"g\" for i in range(10)]\n",
    "node_size=[50 for i in range(52)]\n",
    "\n",
    "fig=plt.figure(figsize=(16,16))\n",
    "nx.draw(g, new_all_pos, with_labels=True,node_color=node_color, node_size = node_size)\n",
    "plt.show()"
   ]
  },
  {
   "cell_type": "code",
   "execution_count": 30,
   "id": "63a67d7e",
   "metadata": {},
   "outputs": [
    {
     "data": {
      "text/plain": [
       "array([[3.74820692e+00, 3.67372096e+00],\n",
       "       [4.13859692e+00, 3.78273096e+00],\n",
       "       [4.30502692e+00, 4.02572096e+00],\n",
       "       [4.69068692e+00, 4.28620096e+00],\n",
       "       [5.13860692e+00, 4.58518096e+00],\n",
       "       [5.50116692e+00, 4.82883096e+00],\n",
       "       [5.83281692e+00, 5.05136096e+00],\n",
       "       [6.17579692e+00, 5.28027096e+00],\n",
       "       [6.64010692e+00, 5.58475096e+00],\n",
       "       [7.14588692e+00, 5.94742096e+00],\n",
       "       [8.19704692e+00, 6.17908096e+00],\n",
       "       [8.89416923e-01, 4.08215096e+00],\n",
       "       [1.05364692e+00, 4.86128096e+00],\n",
       "       [2.37430692e+00, 4.78351096e+00],\n",
       "       [3.21756692e+00, 4.63886096e+00],\n",
       "       [4.10724692e+00, 3.76788096e+00],\n",
       "       [5.05324692e+00, 3.46340096e+00],\n",
       "       [5.91311692e+00, 3.70331096e+00],\n",
       "       [7.29988692e+00, 3.99778096e+00],\n",
       "       [9.88488692e+00, 4.05179096e+00],\n",
       "       [1.14288469e+01, 4.16509096e+00],\n",
       "       [1.31389069e+01, 4.35407096e+00],\n",
       "       [8.05657692e+00, 1.06807210e+01],\n",
       "       [6.93534692e+00, 1.05387110e+01],\n",
       "       [6.21506692e+00, 9.35379096e+00],\n",
       "       [5.77902692e+00, 8.23058096e+00],\n",
       "       [5.49478692e+00, 7.57146096e+00],\n",
       "       [5.12265692e+00, 6.71203096e+00],\n",
       "       [4.81432692e+00, 5.96810096e+00],\n",
       "       [4.33769692e+00, 5.22373096e+00],\n",
       "       [4.17940692e+00, 4.43635096e+00],\n",
       "       [4.18072692e+00, 3.76766096e+00],\n",
       "       [4.42976692e+00, 3.13285096e+00],\n",
       "       [4.99417692e+00, 2.87655096e+00],\n",
       "       [6.12959692e+00, 2.36747096e+00],\n",
       "       [6.80972692e+00, 2.14857096e+00],\n",
       "       [8.20078692e+00, 1.65280096e+00],\n",
       "       [9.25689692e+00, 1.27308096e+00],\n",
       "       [1.04640369e+01, 7.90840962e-01],\n",
       "       [1.12551569e+01, 5.05940962e-01],\n",
       "       [1.20680569e+01, 2.65040962e-01],\n",
       "       [1.45470169e+01, 1.13809615e-02],\n",
       "       [4.47546923e-01, 1.00700962e-01],\n",
       "       [1.85543692e+00, 1.85070962e-01],\n",
       "       [3.27223692e+00, 1.12414096e+00],\n",
       "       [3.42392692e+00, 1.53675096e+00],\n",
       "       [4.23693692e+00, 2.16694096e+00],\n",
       "       [4.56396692e+00, 2.51124096e+00],\n",
       "       [4.99615692e+00, 2.84960096e+00],\n",
       "       [6.15676692e+00, 3.23625096e+00],\n",
       "       [6.73074692e+00, 3.60123096e+00],\n",
       "       [7.17041692e+00, 4.08600096e+00]])"
      ]
     },
     "execution_count": 30,
     "metadata": {},
     "output_type": "execute_result"
    }
   ],
   "source": [
    "new_all_pos"
   ]
  },
  {
   "cell_type": "code",
   "execution_count": 31,
   "id": "6c7a0aa6",
   "metadata": {},
   "outputs": [
    {
     "data": {
      "text/plain": [
       "array([14.54701692, 10.68072096])"
      ]
     },
     "execution_count": 31,
     "metadata": {},
     "output_type": "execute_result"
    }
   ],
   "source": [
    "np.max(new_all_pos,axis=0)"
   ]
  },
  {
   "cell_type": "code",
   "execution_count": 32,
   "id": "016f3048",
   "metadata": {},
   "outputs": [
    {
     "data": {
      "text/plain": [
       "192"
      ]
     },
     "execution_count": 32,
     "metadata": {},
     "output_type": "execute_result"
    }
   ],
   "source": [
    "12*16"
   ]
  },
  {
   "cell_type": "code",
   "execution_count": 33,
   "id": "4f66f723",
   "metadata": {},
   "outputs": [],
   "source": [
    "old_centroid_node = [ i+80 for i in range(0,12*16) ]\n",
    "old_centroid_pos = np.reshape([[ (i,j) for j in range(12) ] for i in range(16)],(12*16,2))"
   ]
  },
  {
   "cell_type": "code",
   "execution_count": 34,
   "id": "8fe775b3",
   "metadata": {},
   "outputs": [
    {
     "data": {
      "text/plain": [
       "array([[ 0,  0],\n",
       "       [ 0,  1],\n",
       "       [ 0,  2],\n",
       "       [ 0,  3],\n",
       "       [ 0,  4],\n",
       "       [ 0,  5],\n",
       "       [ 0,  6],\n",
       "       [ 0,  7],\n",
       "       [ 0,  8],\n",
       "       [ 0,  9],\n",
       "       [ 0, 10],\n",
       "       [ 0, 11],\n",
       "       [ 1,  0],\n",
       "       [ 1,  1],\n",
       "       [ 1,  2],\n",
       "       [ 1,  3],\n",
       "       [ 1,  4],\n",
       "       [ 1,  5],\n",
       "       [ 1,  6],\n",
       "       [ 1,  7],\n",
       "       [ 1,  8],\n",
       "       [ 1,  9],\n",
       "       [ 1, 10],\n",
       "       [ 1, 11],\n",
       "       [ 2,  0],\n",
       "       [ 2,  1],\n",
       "       [ 2,  2],\n",
       "       [ 2,  3],\n",
       "       [ 2,  4],\n",
       "       [ 2,  5],\n",
       "       [ 2,  6],\n",
       "       [ 2,  7],\n",
       "       [ 2,  8],\n",
       "       [ 2,  9],\n",
       "       [ 2, 10],\n",
       "       [ 2, 11],\n",
       "       [ 3,  0],\n",
       "       [ 3,  1],\n",
       "       [ 3,  2],\n",
       "       [ 3,  3],\n",
       "       [ 3,  4],\n",
       "       [ 3,  5],\n",
       "       [ 3,  6],\n",
       "       [ 3,  7],\n",
       "       [ 3,  8],\n",
       "       [ 3,  9],\n",
       "       [ 3, 10],\n",
       "       [ 3, 11],\n",
       "       [ 4,  0],\n",
       "       [ 4,  1],\n",
       "       [ 4,  2],\n",
       "       [ 4,  3],\n",
       "       [ 4,  4],\n",
       "       [ 4,  5],\n",
       "       [ 4,  6],\n",
       "       [ 4,  7],\n",
       "       [ 4,  8],\n",
       "       [ 4,  9],\n",
       "       [ 4, 10],\n",
       "       [ 4, 11],\n",
       "       [ 5,  0],\n",
       "       [ 5,  1],\n",
       "       [ 5,  2],\n",
       "       [ 5,  3],\n",
       "       [ 5,  4],\n",
       "       [ 5,  5],\n",
       "       [ 5,  6],\n",
       "       [ 5,  7],\n",
       "       [ 5,  8],\n",
       "       [ 5,  9],\n",
       "       [ 5, 10],\n",
       "       [ 5, 11],\n",
       "       [ 6,  0],\n",
       "       [ 6,  1],\n",
       "       [ 6,  2],\n",
       "       [ 6,  3],\n",
       "       [ 6,  4],\n",
       "       [ 6,  5],\n",
       "       [ 6,  6],\n",
       "       [ 6,  7],\n",
       "       [ 6,  8],\n",
       "       [ 6,  9],\n",
       "       [ 6, 10],\n",
       "       [ 6, 11],\n",
       "       [ 7,  0],\n",
       "       [ 7,  1],\n",
       "       [ 7,  2],\n",
       "       [ 7,  3],\n",
       "       [ 7,  4],\n",
       "       [ 7,  5],\n",
       "       [ 7,  6],\n",
       "       [ 7,  7],\n",
       "       [ 7,  8],\n",
       "       [ 7,  9],\n",
       "       [ 7, 10],\n",
       "       [ 7, 11],\n",
       "       [ 8,  0],\n",
       "       [ 8,  1],\n",
       "       [ 8,  2],\n",
       "       [ 8,  3],\n",
       "       [ 8,  4],\n",
       "       [ 8,  5],\n",
       "       [ 8,  6],\n",
       "       [ 8,  7],\n",
       "       [ 8,  8],\n",
       "       [ 8,  9],\n",
       "       [ 8, 10],\n",
       "       [ 8, 11],\n",
       "       [ 9,  0],\n",
       "       [ 9,  1],\n",
       "       [ 9,  2],\n",
       "       [ 9,  3],\n",
       "       [ 9,  4],\n",
       "       [ 9,  5],\n",
       "       [ 9,  6],\n",
       "       [ 9,  7],\n",
       "       [ 9,  8],\n",
       "       [ 9,  9],\n",
       "       [ 9, 10],\n",
       "       [ 9, 11],\n",
       "       [10,  0],\n",
       "       [10,  1],\n",
       "       [10,  2],\n",
       "       [10,  3],\n",
       "       [10,  4],\n",
       "       [10,  5],\n",
       "       [10,  6],\n",
       "       [10,  7],\n",
       "       [10,  8],\n",
       "       [10,  9],\n",
       "       [10, 10],\n",
       "       [10, 11],\n",
       "       [11,  0],\n",
       "       [11,  1],\n",
       "       [11,  2],\n",
       "       [11,  3],\n",
       "       [11,  4],\n",
       "       [11,  5],\n",
       "       [11,  6],\n",
       "       [11,  7],\n",
       "       [11,  8],\n",
       "       [11,  9],\n",
       "       [11, 10],\n",
       "       [11, 11],\n",
       "       [12,  0],\n",
       "       [12,  1],\n",
       "       [12,  2],\n",
       "       [12,  3],\n",
       "       [12,  4],\n",
       "       [12,  5],\n",
       "       [12,  6],\n",
       "       [12,  7],\n",
       "       [12,  8],\n",
       "       [12,  9],\n",
       "       [12, 10],\n",
       "       [12, 11],\n",
       "       [13,  0],\n",
       "       [13,  1],\n",
       "       [13,  2],\n",
       "       [13,  3],\n",
       "       [13,  4],\n",
       "       [13,  5],\n",
       "       [13,  6],\n",
       "       [13,  7],\n",
       "       [13,  8],\n",
       "       [13,  9],\n",
       "       [13, 10],\n",
       "       [13, 11],\n",
       "       [14,  0],\n",
       "       [14,  1],\n",
       "       [14,  2],\n",
       "       [14,  3],\n",
       "       [14,  4],\n",
       "       [14,  5],\n",
       "       [14,  6],\n",
       "       [14,  7],\n",
       "       [14,  8],\n",
       "       [14,  9],\n",
       "       [14, 10],\n",
       "       [14, 11],\n",
       "       [15,  0],\n",
       "       [15,  1],\n",
       "       [15,  2],\n",
       "       [15,  3],\n",
       "       [15,  4],\n",
       "       [15,  5],\n",
       "       [15,  6],\n",
       "       [15,  7],\n",
       "       [15,  8],\n",
       "       [15,  9],\n",
       "       [15, 10],\n",
       "       [15, 11]])"
      ]
     },
     "execution_count": 34,
     "metadata": {},
     "output_type": "execute_result"
    }
   ],
   "source": [
    "old_centroid_pos"
   ]
  },
  {
   "cell_type": "code",
   "execution_count": 35,
   "id": "a3c30541",
   "metadata": {
    "scrolled": true
   },
   "outputs": [
    {
     "data": {
      "text/plain": [
       "array([0, 0])"
      ]
     },
     "execution_count": 35,
     "metadata": {},
     "output_type": "execute_result"
    }
   ],
   "source": [
    "old_centroid_pos[0]"
   ]
  },
  {
   "cell_type": "code",
   "execution_count": 36,
   "id": "72046b42",
   "metadata": {},
   "outputs": [
    {
     "data": {
      "text/plain": [
       "array([0, 1])"
      ]
     },
     "execution_count": 36,
     "metadata": {},
     "output_type": "execute_result"
    }
   ],
   "source": [
    "old_centroid_pos[1]"
   ]
  },
  {
   "cell_type": "code",
   "execution_count": 37,
   "id": "b367aed5",
   "metadata": {},
   "outputs": [
    {
     "data": {
      "text/plain": [
       "array([1, 0])"
      ]
     },
     "execution_count": 37,
     "metadata": {},
     "output_type": "execute_result"
    }
   ],
   "source": [
    "old_centroid_pos[12]"
   ]
  },
  {
   "cell_type": "code",
   "execution_count": 38,
   "id": "ed0e7c11",
   "metadata": {},
   "outputs": [
    {
     "data": {
      "text/plain": [
       "array([1, 1])"
      ]
     },
     "execution_count": 38,
     "metadata": {},
     "output_type": "execute_result"
    }
   ],
   "source": [
    "old_centroid_pos[13]"
   ]
  },
  {
   "cell_type": "code",
   "execution_count": null,
   "id": "3292f542",
   "metadata": {},
   "outputs": [],
   "source": []
  },
  {
   "cell_type": "code",
   "execution_count": null,
   "id": "c77dd17a",
   "metadata": {},
   "outputs": [],
   "source": []
  },
  {
   "cell_type": "code",
   "execution_count": null,
   "id": "366e0c99",
   "metadata": {},
   "outputs": [],
   "source": []
  }
 ],
 "metadata": {
  "kernelspec": {
   "display_name": "Python 3 (ipykernel)",
   "language": "python",
   "name": "python3"
  },
  "language_info": {
   "codemirror_mode": {
    "name": "ipython",
    "version": 3
   },
   "file_extension": ".py",
   "mimetype": "text/x-python",
   "name": "python",
   "nbconvert_exporter": "python",
   "pygments_lexer": "ipython3",
   "version": "3.9.13"
  }
 },
 "nbformat": 4,
 "nbformat_minor": 5
}
