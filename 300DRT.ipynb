{
 "cells": [
  {
   "cell_type": "code",
   "execution_count": null,
   "metadata": {},
   "outputs": [],
   "source": [
    "# import agent\n",
    "# import environment\n",
    "# import runner\n",
    "import graph\n",
    "import bus_line\n",
    "import numpy as np\n",
    "import networkx as nx\n",
    "import sys\n",
    "import random\n",
    "import pylab \n",
    "import matplotlib.pyplot as plt\n",
    "import math"
   ]
  },
  {
   "cell_type": "code",
   "execution_count": null,
   "metadata": {},
   "outputs": [],
   "source": [
    "location_route_1 = [[ 45.446466, -73.603118],\n",
    "       [ 45.451158, -73.593242],\n",
    "       [ 45.45701 , -73.581691],\n",
    "       [ 45.459441, -73.572021],\n",
    "       [ 45.461894, -73.567074],\n",
    "       [ 45.471063, -73.566267],\n",
    "       [ 45.478465, -73.569336],\n",
    "       [ 45.482509, -73.58018 ],\n",
    "       [ 45.490068, -73.585812],\n",
    "       [ 45.49557 , -73.57931 ],\n",
    "       [ 45.500879, -73.574715],\n",
    "       [ 45.504064, -73.571586],\n",
    "       [ 45.50822 , -73.568433],\n",
    "       [ 45.511033, -73.564899],\n",
    "       [ 45.515226, -73.561082],\n",
    "       [ 45.518831, -73.555837],\n",
    "       [ 45.523988, -73.552703],\n",
    "       [ 45.533504, -73.552196],\n",
    "       [ 45.541717, -73.554192],\n",
    "       [ 45.546832, -73.551391],\n",
    "       [ 45.553688, -73.551757],\n",
    "       [ 45.560687, -73.54753 ],\n",
    "       [ 45.569285, -73.547336],\n",
    "       [ 45.576843, -73.54671 ],\n",
    "       [ 45.582736, -73.543133],\n",
    "       [ 45.589431, -73.539269],\n",
    "       [ 45.596572, -73.535376]]"
   ]
  },
  {
   "cell_type": "code",
   "execution_count": null,
   "metadata": {},
   "outputs": [],
   "source": [
    "time_1 = list(np.array([1,2,1,1,2,1,2,2,1,2,1,1,1,1,1,1,2,2,1,1,2,1,2,1,1,3])/60)"
   ]
  },
  {
   "cell_type": "code",
   "execution_count": null,
   "metadata": {},
   "outputs": [],
   "source": [
    "location_route_2 = [[ 45.558436, -73.722459],\n",
    "       [ 45.560698, -73.709389],\n",
    "       [ 45.559997, -73.68231 ],\n",
    "       [ 45.555277, -73.668172],\n",
    "       [ 45.550757, -73.656017],\n",
    "       [ 45.546082, -73.639052],\n",
    "       [ 45.543191, -73.628765],\n",
    "       [ 45.539056, -73.613902],\n",
    "       [ 45.535354, -73.604688],\n",
    "       [ 45.531733, -73.59778 ],\n",
    "       [ 45.527399, -73.586907],\n",
    "       [ 45.524931, -73.581959],\n",
    "       [ 45.51906 , -73.569217],\n",
    "       [ 45.515212, -73.561051],\n",
    "       [ 45.510047, -73.556596],\n",
    "       [ 45.506348, -73.559548],\n",
    "       [ 45.501937, -73.563118],\n",
    "       [ 45.498086, -73.567235],\n",
    "       [ 45.494745, -73.571074],\n",
    "       [ 45.488897, -73.576852],\n",
    "       [ 45.482509, -73.58018 ],\n",
    "       [ 45.47732 , -73.586629],\n",
    "       [ 45.474101, -73.603706],\n",
    "       [ 45.479709, -73.619821],\n",
    "       [ 45.485433, -73.62773 ],\n",
    "       [ 45.492356, -73.6331  ],\n",
    "       [ 45.494644, -73.63826 ],\n",
    "       [ 45.494643, -73.652828],\n",
    "       [ 45.500051, -73.661538],\n",
    "       [ 45.509258, -73.674796],\n",
    "       [ 45.514237, -73.682757]]"
   ]
  },
  {
   "cell_type": "code",
   "execution_count": null,
   "metadata": {},
   "outputs": [],
   "source": [
    "time_2 = list(np.array([1,3,2,1,2,1,2,1,2,1,5,1,1,1,2,2,1,2,1,2,2,2,1,2,1,1,1,2,1,2])/60)"
   ]
  },
  {
   "cell_type": "code",
   "execution_count": null,
   "metadata": {},
   "outputs": [],
   "source": [
    "location_route_4 = [[ 45.515191, -73.561013],\n",
    "       [ 45.512429, -73.533127],\n",
    "       [ 45.52489 , -73.522098]]"
   ]
  },
  {
   "cell_type": "code",
   "execution_count": null,
   "metadata": {},
   "outputs": [],
   "source": [
    "time_3 = list(np.array([2,4])/60)"
   ]
  },
  {
   "cell_type": "code",
   "execution_count": null,
   "metadata": {},
   "outputs": [],
   "source": [
    "location_route_5 = [[ 45.485403, -73.627757],\n",
    "       [ 45.496846, -73.623386],\n",
    "       [ 45.503188, -73.617699],\n",
    "       [ 45.50992 , -73.612858],\n",
    "       [ 45.52037 , -73.614976],\n",
    "       [ 45.523458, -73.623257],\n",
    "       [ 45.530177, -73.624559],\n",
    "       [ 45.535437, -73.619873],\n",
    "       [ 45.539152, -73.613856],\n",
    "       [ 45.546753, -73.608106],\n",
    "       [ 45.553618, -73.601988],\n",
    "       [ 45.55956 , -73.600002]]"
   ]
  },
  {
   "cell_type": "code",
   "execution_count": null,
   "metadata": {},
   "outputs": [],
   "source": [
    "time_4 = list(np.array([1,1,2,3,2,1,1,1,2,1,2])/60)"
   ]
  },
  {
   "cell_type": "code",
   "execution_count": null,
   "metadata": {},
   "outputs": [],
   "source": [
    "all_edge = [(i,i+1) for i in range(73) if i!= 26 and i!= 57 and i!= 60 and i!= 72]"
   ]
  },
  {
   "cell_type": "code",
   "execution_count": null,
   "metadata": {},
   "outputs": [],
   "source": [
    "all_pos = location_route_1+location_route_2+location_route_4+location_route_5"
   ]
  },
  {
   "cell_type": "code",
   "execution_count": null,
   "metadata": {},
   "outputs": [],
   "source": [
    "new_all_pos = (all_pos-np.mean(all_pos,axis=0)) * 110 # km"
   ]
  },
  {
   "cell_type": "code",
   "execution_count": null,
   "metadata": {},
   "outputs": [],
   "source": [
    "new_all_pos[:,0] = -new_all_pos[:,0]"
   ]
  },
  {
   "cell_type": "code",
   "execution_count": null,
   "metadata": {},
   "outputs": [],
   "source": [
    "new_all_pos = new_all_pos.dot(np.array([[0,-1],[1,0]]))"
   ]
  },
  {
   "cell_type": "code",
   "execution_count": null,
   "metadata": {},
   "outputs": [],
   "source": [
    "np.min(new_all_pos,axis=0)"
   ]
  },
  {
   "cell_type": "code",
   "execution_count": null,
   "metadata": {},
   "outputs": [],
   "source": [
    "# 25 km x 25 km + (10,15)\n",
    "new_all_pos = new_all_pos + np.array( [15,10] )"
   ]
  },
  {
   "cell_type": "code",
   "execution_count": null,
   "metadata": {},
   "outputs": [],
   "source": [
    "np.max(new_all_pos,axis=0)"
   ]
  },
  {
   "cell_type": "code",
   "execution_count": null,
   "metadata": {},
   "outputs": [],
   "source": [
    "np.min(new_all_pos,axis=0)"
   ]
  },
  {
   "cell_type": "code",
   "execution_count": null,
   "metadata": {},
   "outputs": [],
   "source": [
    "route_1 = new_all_pos[:27]"
   ]
  },
  {
   "cell_type": "code",
   "execution_count": null,
   "metadata": {},
   "outputs": [],
   "source": [
    "route_2 = new_all_pos[27:27+31]"
   ]
  },
  {
   "cell_type": "code",
   "execution_count": null,
   "metadata": {},
   "outputs": [],
   "source": [
    "route_3 = new_all_pos[27+31:27+31+3]"
   ]
  },
  {
   "cell_type": "code",
   "execution_count": null,
   "metadata": {},
   "outputs": [],
   "source": [
    "route_4 = new_all_pos[27+31+3:]"
   ]
  },
  {
   "cell_type": "code",
   "execution_count": null,
   "metadata": {},
   "outputs": [],
   "source": [
    "g = nx.DiGraph()\n",
    "\n",
    "g.add_nodes_from([i for i in range(73)])\n",
    "\n",
    "g.add_edges_from(all_edge)\n",
    "\n",
    "node_color=[\"r\" for i in range(27)]+[\"b\" for i in range(31)]+[\"y\" for i in range(3)]+[\"g\" for i in range(12)]\n",
    "node_size=[50 for i in range(73)]\n",
    "\n",
    "fig=plt.figure(figsize=(16,16))\n",
    "nx.draw(g, new_all_pos, with_labels=True,node_color=node_color, node_size = node_size)\n",
    "plt.show()"
   ]
  },
  {
   "cell_type": "code",
   "execution_count": null,
   "metadata": {},
   "outputs": [],
   "source": [
    "line_list = []\n",
    "\n",
    "line_1 = route_1\n",
    "line_2 = route_2\n",
    "line_3 = route_3\n",
    "line_4 = route_4\n",
    "\n",
    "line_list.append(line_1)\n",
    "line_list.append(line_2)\n",
    "line_list.append(line_3)\n",
    "line_list.append(line_4)\n",
    "\n",
    "list_Nb_stops = []\n",
    "for i in range(4):\n",
    "    list_Nb_stops.append( len(line_list[i]) )\n",
    "list_Nb_stops = np.cumsum( list_Nb_stops )\n",
    "\n",
    "#create bus_line\n",
    "bus_line_1 = bus_line.Bus_line( 1,7/60, [i for i in range(list_Nb_stops[0])],     dict( zip([i for i in range(list_Nb_stops[0])],     line_1.tolist())),time_1 )\n",
    "bus_line_2 = bus_line.Bus_line( 2,7/60, [i for i in range(list_Nb_stops[0],list_Nb_stops[1])],dict( zip([i for i in range(list_Nb_stops[0],list_Nb_stops[1])], line_2.tolist())),time_2 )\n",
    "bus_line_3 = bus_line.Bus_line( 3,7.5/60, [i for i in range(list_Nb_stops[1],list_Nb_stops[2])],dict( zip([i for i in range(list_Nb_stops[1],list_Nb_stops[2])], line_3.tolist())),time_3 )\n",
    "bus_line_4 = bus_line.Bus_line( 4,7.5/60, [i for i in range(list_Nb_stops[2],list_Nb_stops[3])],dict( zip([i for i in range(list_Nb_stops[2],list_Nb_stops[3])], line_4.tolist())),time_4 )\n",
    "\n",
    "\n",
    "\n",
    "line_all = line_1.tolist()+line_2.tolist()+line_3.tolist()+line_4.tolist()\n",
    "list_connection = []\n",
    "for i in range( list_Nb_stops[-1]):\n",
    "    for j in range(i,list_Nb_stops[-1]):\n",
    "        if j != i and np.linalg.norm( np.array(line_all[i])-np.array(line_all[j]) ) < 0.05:\n",
    "            list_connection.append( [i,j])\n",
    "list_waiting_time = []\n",
    "list_waiting_time.append( bus_line_1.waiting_time ) \n",
    "list_waiting_time.append( bus_line_2.waiting_time )\n",
    "list_waiting_time.append( bus_line_3.waiting_time )\n",
    "list_waiting_time.append( bus_line_4.waiting_time )\n",
    "\n",
    "#create graph\n",
    "g  = graph.Graph( list_connection, list_waiting_time )\n",
    "\n",
    "#add each bus_line\n",
    "g.add_bus_line(bus_line_1)\n",
    "g.add_bus_line(bus_line_2)\n",
    "g.add_bus_line(bus_line_3)\n",
    "g.add_bus_line(bus_line_4)\n",
    "\n",
    "#np.save( 'test_set.npy',graph_dic )"
   ]
  },
  {
   "cell_type": "code",
   "execution_count": null,
   "metadata": {},
   "outputs": [],
   "source": [
    "g.show()"
   ]
  },
  {
   "cell_type": "code",
   "execution_count": null,
   "metadata": {},
   "outputs": [],
   "source": [
    "g.add_center()"
   ]
  },
  {
   "cell_type": "code",
   "execution_count": null,
   "metadata": {},
   "outputs": [],
   "source": [
    "g.show()"
   ]
  },
  {
   "cell_type": "code",
   "execution_count": null,
   "metadata": {},
   "outputs": [],
   "source": [
    "g.add_edge_between_centers()"
   ]
  },
  {
   "cell_type": "code",
   "execution_count": null,
   "metadata": {},
   "outputs": [],
   "source": [
    "g.add_edge_between_centerAnsBusStation()"
   ]
  },
  {
   "cell_type": "code",
   "execution_count": null,
   "metadata": {},
   "outputs": [],
   "source": [
    "import time\n",
    "t_0 = time.time()\n",
    "Initial_acc = np.array(g.get_acc()[1])\n",
    "t_1 = time.time()\n",
    "print(t_1 - t_0)"
   ]
  },
  {
   "cell_type": "code",
   "execution_count": null,
   "metadata": {},
   "outputs": [],
   "source": [
    "center_polulation = g.center_polulation\n",
    "total_polulation = g.total_polulation"
   ]
  },
  {
   "cell_type": "code",
   "execution_count": null,
   "metadata": {},
   "outputs": [],
   "source": [
    "list_area = [] \n",
    "for i in range(80,580):\n",
    "    if i in g.center_node and i+1 in g.center_node and i+20 in g.center_node and i+21 in g.center_node and i+40 in g.center_node and i+41 in g.center_node:\n",
    "        list_area.append([i,i+1,i+20,i+21,i+40,i+41])"
   ]
  },
  {
   "cell_type": "code",
   "execution_count": null,
   "metadata": {},
   "outputs": [],
   "source": [
    "def findWorstBusStop(g):\n",
    "    list_acc =  g.get_acc()[1]\n",
    "    \n",
    "    index_acc = np.argsort(list_acc)\n",
    "    index_popu = np.argsort(list(center_polulation.values()))\n",
    "    \n",
    "    index_acc_dict = {}\n",
    "    index_popu_dict = {}   \n",
    "    for i in range(len(g.center_node)):\n",
    "        index_acc_dict[g.center_node[index_acc[i]]] = i\n",
    "        index_popu_dict[g.center_node[index_popu[i]]] = i\n",
    "        \n",
    "    index_area_list = [] \n",
    "    for area_ in list_area:\n",
    "        index_area = []\n",
    "        for i in area_:\n",
    "            index_area.append(index_popu_dict[i]+(len(g.center_node)-index_acc_dict[i])*3)\n",
    "        index_area_list.append( np.mean(index_area) )\n",
    "    \n",
    "    worst_area = list_area[np.argmax(index_area_list)]\n",
    "    \n",
    "    index_area_list.sort(reverse=True)\n",
    "    \n",
    "    print('worst 30 index_area_list :',index_area_list[:50])\n",
    "    \n",
    "    #find nearest bus station    \n",
    "    position_DRT = (g.center_to_pos[worst_area[4]] + g.center_to_pos[worst_area[5]])/2 + np.array([0.5,0])\n",
    "    \n",
    "    distance_bus_area_list = [] \n",
    "    for i in g.bus_node:\n",
    "        bus_pos = np.array(g.bus_pos[i])\n",
    "        distance_bus_area_list.append( np.linalg.norm( bus_pos - position_DRT ) )\n",
    "\n",
    "    \n",
    "    return [np.argmin( distance_bus_area_list ),worst_area]"
   ]
  },
  {
   "cell_type": "code",
   "execution_count": null,
   "metadata": {},
   "outputs": [],
   "source": [
    "def calcualtePho(bus_stop,centroid,g):\n",
    "    beta = 0.12\n",
    "    length =  nx.all_pairs_dijkstra_path_length(g.g)\n",
    "    index = []\n",
    "    for i, dict_ in length:\n",
    "        if i== centroid:\n",
    "            a = []\n",
    "            for j in list(dict_.keys()):\n",
    "                if j in g.center_node and j!=i:\n",
    "                    index.append( j )\n",
    "                    a.append( center_polulation[j]*0.15*np.exp( - beta*dict_[j]  ) )\n",
    "            a = np.array(a)\n",
    "    b = a/np.sum(a)\n",
    "    c = {}\n",
    "    for i in range(len(b)):\n",
    "        c[index[i]] = b[i]\n",
    "        \n",
    "    pho = 0.0\n",
    "    path = nx.all_pairs_dijkstra_path(g.g)\n",
    "    for i, dict_ in path:\n",
    "        if i==centroid:\n",
    "            for j in dict_.keys():\n",
    "                if bus_stop in dict_[j] and j in g.center_node and j!=i:\n",
    "                    pho = pho + c[j]   \n",
    "    return pho"
   ]
  },
  {
   "cell_type": "code",
   "execution_count": null,
   "metadata": {},
   "outputs": [],
   "source": [
    "def get_hx(n_bus,pho):\n",
    "    v_bus = 25\n",
    "    w = 1\n",
    "    l = 1\n",
    "    tau_s = 30/3600\n",
    "    tau_p = 2/3600\n",
    "    tau_T = 60/3600\n",
    "    h = symbols('h')\n",
    "    h_x = solve( (2*l*(2*pho*w*l*h)/(2*pho*w*l*h+1)+(2*pho*w*l*h)*w/6+w*2/3)/v_bus + (tau_s+tau_p)*(2*pho*w*l*h) + tau_T - n_bus*h  , h)\n",
    "    return max( float(h_x[0]),float(h_x[1]) ) "
   ]
  },
  {
   "cell_type": "code",
   "execution_count": null,
   "metadata": {},
   "outputs": [],
   "source": [
    "from sympy import *"
   ]
  },
  {
   "cell_type": "code",
   "execution_count": null,
   "metadata": {},
   "outputs": [],
   "source": [
    "def test(n_bus,res,g):\n",
    "    pho_before = 10000000000\n",
    "    for i in range(5):\n",
    "        #print(i)\n",
    "        pho = 0.0\n",
    "        for j in res[1]:\n",
    "            pho = pho + calcualtePho(res[0],j,g)*center_polulation[j]*0.15\n",
    "        #print('pho',pho)\n",
    "        #print('pho_before',pho_before)\n",
    "        if (pho-pho_before)/pho_before <= 0.05 and i!=0:\n",
    "            #print('stable')\n",
    "            break\n",
    "        pho_before = pho\n",
    "        hx = get_hx(n_bus,pho)\n",
    "        if hx <= 0:\n",
    "            #print(hx)\n",
    "            return 9\n",
    "        else:\n",
    "            return 8"
   ]
  },
  {
   "cell_type": "code",
   "execution_count": null,
   "metadata": {},
   "outputs": [],
   "source": [
    "def assign_DRT(n_bus,res,g):\n",
    "    pho_before = 10000000000\n",
    "    for i in range(5):\n",
    "        #print(i)\n",
    "        pho = 0.0\n",
    "        for j in res[1]:\n",
    "            pho = pho + calcualtePho(res[0],j,g)*center_polulation[j]*0.15\n",
    "        #print('pho',pho)\n",
    "        #print('pho_before',pho_before)\n",
    "        if (pho-pho_before)/pho_before <= 0.05 and i!=0:\n",
    "            #print('stable')\n",
    "            break\n",
    "        pho_before = pho\n",
    "        hx = get_hx(n_bus,pho)\n",
    "        if hx <= 0:\n",
    "            return 9\n",
    "        else:\n",
    "            position_DRT = (g.center_to_pos[res[1][4]] + g.center_to_pos[res[1][5]])/2 + np.array([0.5,0])\n",
    "            bus_pos_ = np.array(g.bus_pos[res[0]])\n",
    "            distance_bus_area = np.linalg.norm( bus_pos_ - position_DRT )\n",
    "            list_1 = [3/6-1/12,4/6-1/12,2/6-1/12,5/6-1/12,1/6-1/12,1-1/12]\n",
    "            for i in range(len(res[1])):\n",
    "                j = res[1][i]\n",
    "                time_alpha = list_1[i]\n",
    "                g.g.remove_edges_from([(j,res[0]),(res[0],j)])\n",
    "                g.add_connection( [(j,res[0], hx/2+hx*time_alpha + distance_bus_area/25)] )\n",
    "                g.add_connection( [(res[0],j, hx/2+hx*time_alpha + distance_bus_area/25)] )"
   ]
  },
  {
   "cell_type": "code",
   "execution_count": null,
   "metadata": {},
   "outputs": [],
   "source": [
    "import time\n",
    "t_0 = time.time()"
   ]
  },
  {
   "cell_type": "code",
   "execution_count": null,
   "metadata": {},
   "outputs": [],
   "source": [
    "n_bus = 200\n",
    "dict_worststop = {}\n",
    "res = findWorstBusStop(g)\n",
    "initial_res = res"
   ]
  },
  {
   "cell_type": "code",
   "execution_count": null,
   "metadata": {},
   "outputs": [],
   "source": [
    "dict_worststop = {}\n",
    "n_bus = 200\n",
    "steps = int(n_bus/10-1)\n",
    "for i in range(steps):\n",
    "    print('Step',i,':')\n",
    "    if i == 0:\n",
    "        res = findWorstBusStop(g)\n",
    "        initial_res = res\n",
    "        dict_worststop[initial_res[0]] = n_bus\n",
    "        print('    Current worst bus stop:',initial_res[0],' and centroids:',initial_res[1])\n",
    "        \n",
    "        qs = []\n",
    "        for p in initial_res[1]:\n",
    "            qs.append( g.center_to_acc[p] )\n",
    "        print('    Acc before',qs )\n",
    "        \n",
    "        print('    DRT allocation:')\n",
    "        for key,value in dict_worststop.items():\n",
    "            print('        Bus stop {key} -> {value} buses'.format(key = key, value = value))\n",
    "\n",
    "        assign_DRT(n_bus,initial_res,g)\n",
    "        ooo = g.get_acc()\n",
    "        qs = []\n",
    "        for p in initial_res[1]:\n",
    "            qs.append( g.center_to_acc[p] )\n",
    "        print('    Acc after',qs )\n",
    "        print('--------------------------------------------------------------------------')\n",
    "    else:\n",
    "        res = findWorstBusStop(g)\n",
    "        print('    Current worst bus stop:',res[0],' and centroids:',res[1])\n",
    "        qs = []\n",
    "        for p in res[1]:\n",
    "            qs.append( g.center_to_acc[p] )\n",
    "        print('    Acc before',qs )\n",
    "        \n",
    "        \n",
    "        if res[0] == initial_res[0]:\n",
    "            print('    finish')\n",
    "            break\n",
    "        \n",
    "        \n",
    "        if res[0] in dict_worststop.keys():\n",
    "            dict_worststop[ res[0] ] = dict_worststop[ res[0] ]+10\n",
    "        else:\n",
    "            dict_worststop[ res[0] ] = 10\n",
    "        dict_worststop[initial_res[0]] = dict_worststop[initial_res[0]] - 10\n",
    "        \n",
    "        print('    DRT allocation:')\n",
    "        for key,value in dict_worststop.items():\n",
    "            print('        Bus stop {key} -> {value} buses'.format(key = key, value = value))\n",
    "       \n",
    "        if test(dict_worststop[ res[0] ],res,g) == 9:\n",
    "            print('    Nb of buses too small for bus stop {key}  -----> Not change'.format(key = res[0]) )\n",
    "            print('--------------------------------------------------------------------------')\n",
    "            continue\n",
    "        else:\n",
    "            assign_DRT(n_bus-i*10,initial_res,g)        \n",
    "            assign_DRT(dict_worststop[ res[0] ],res,g)\n",
    "            ooo = g.get_acc()\n",
    "            qs = []\n",
    "            for p in res[1]:\n",
    "                qs.append( g.center_to_acc[p] )\n",
    "            print('    Acc after',qs )\n",
    "            print('----------------------------------------------------------------')"
   ]
  },
  {
   "cell_type": "code",
   "execution_count": null,
   "metadata": {},
   "outputs": [],
   "source": [
    "t_1 = time.time()\n",
    "print(t_1-t_0)"
   ]
  },
  {
   "cell_type": "code",
   "execution_count": null,
   "metadata": {},
   "outputs": [],
   "source": [
    "Initial_acc"
   ]
  },
  {
   "cell_type": "code",
   "execution_count": null,
   "metadata": {},
   "outputs": [],
   "source": [
    "np.array( g.get_acc()[1] )"
   ]
  },
  {
   "cell_type": "code",
   "execution_count": null,
   "metadata": {},
   "outputs": [],
   "source": [
    "Opt_acc = np.array(g.get_acc()[1])"
   ]
  },
  {
   "cell_type": "code",
   "execution_count": null,
   "metadata": {},
   "outputs": [],
   "source": [
    "len(Opt_acc)"
   ]
  },
  {
   "cell_type": "code",
   "execution_count": null,
   "metadata": {},
   "outputs": [],
   "source": [
    "@"
   ]
  },
  {
   "cell_type": "code",
   "execution_count": null,
   "metadata": {},
   "outputs": [],
   "source": [
    "Opt_acc = np."
   ]
  },
  {
   "cell_type": "code",
   "execution_count": null,
   "metadata": {},
   "outputs": [],
   "source": [
    "np.mean(Opt_acc) - np.mean(Initial_acc)"
   ]
  },
  {
   "cell_type": "code",
   "execution_count": null,
   "metadata": {},
   "outputs": [],
   "source": [
    "l2=plt.scatter(Initial_acc,Opt_acc)\n",
    "plt.xlabel('acc_before')\n",
    "plt.ylabel('acc_after')\n",
    "plt.show()"
   ]
  },
  {
   "cell_type": "code",
   "execution_count": null,
   "metadata": {},
   "outputs": [],
   "source": [
    "Opt_acc - Initial_acc"
   ]
  },
  {
   "cell_type": "markdown",
   "metadata": {},
   "source": [
    "# Random"
   ]
  },
  {
   "cell_type": "code",
   "execution_count": null,
   "metadata": {},
   "outputs": [],
   "source": [
    "Initial_acc = np.array(g.get_acc()[1])"
   ]
  },
  {
   "cell_type": "code",
   "execution_count": null,
   "metadata": {},
   "outputs": [],
   "source": [
    "Initial_acc"
   ]
  },
  {
   "cell_type": "code",
   "execution_count": null,
   "metadata": {},
   "outputs": [],
   "source": [
    "sub_ = [0,26,27,57,60,61,72]"
   ]
  },
  {
   "cell_type": "code",
   "execution_count": null,
   "metadata": {},
   "outputs": [],
   "source": [
    "import random\n",
    "\n",
    "def func1(amount,num):\n",
    "    list1 = []\n",
    "    for i in range(0,num-1):\n",
    "        a = random.randint(0,amount)   \n",
    "        list1.append(a)\n",
    "    list1.sort()                      \n",
    "    list1.append(amount)              \n",
    "\n",
    "    list2 = []\n",
    "    for i in range(len(list1)):\n",
    "        if i == 0:\n",
    "            b = list1[i]                \n",
    "        else:\n",
    "            b = list1[i] - list1[i-1]   \n",
    "        list2.append(b)\n",
    "\n",
    "    return list2"
   ]
  },
  {
   "cell_type": "code",
   "execution_count": null,
   "metadata": {},
   "outputs": [],
   "source": [
    "for i in range(10000):\n",
    "    random_list = func1(400,5)\n",
    "    if min(random_list)>=10:\n",
    "        break"
   ]
  },
  {
   "cell_type": "code",
   "execution_count": null,
   "metadata": {},
   "outputs": [],
   "source": [
    "random_list"
   ]
  },
  {
   "cell_type": "code",
   "execution_count": null,
   "metadata": {},
   "outputs": [],
   "source": [
    "random_bus_stop = random.sample(sub_, 5)"
   ]
  },
  {
   "cell_type": "code",
   "execution_count": null,
   "metadata": {},
   "outputs": [],
   "source": [
    "random_bus_stop"
   ]
  },
  {
   "cell_type": "code",
   "execution_count": null,
   "metadata": {},
   "outputs": [],
   "source": [
    "list_acc =  g.get_acc()[1]\n",
    "index_acc = sorted(range(len(list_acc)),key = lambda k:list_acc[k])\n",
    "list_a = []\n",
    "list_b = []\n",
    "for i in g.bus_node:\n",
    "    list_near_centroids = []\n",
    "    list_near_centroids_acc = []\n",
    "    for j in range(len(g.center_node)):\n",
    "        if g.center_pos[j][0]>=g.bus_pos[i][0]-3 and g.center_pos[j][0]<g.bus_pos[i][0] and g.center_pos[j][1]>=g.bus_pos[i][1]-1 and g.center_pos[j][1]<=g.bus_pos[i][1]+1:\n",
    "            list_near_centroids.append( g.center_node[j] ) \n",
    "            list_near_centroids_acc.append( (1 - index_acc[j]/len(index_acc))*center_polulation[g.center_node[j]] ) \n",
    "    list_a.append( list_near_centroids )\n",
    "    list_b.append( np.sum(list_near_centroids_acc) )\n",
    "    \n",
    "list_res = []\n",
    "for i in range(5):\n",
    "    list_res.append(  [random_bus_stop[i],list_a[random_bus_stop[i]] ] ) "
   ]
  },
  {
   "cell_type": "code",
   "execution_count": null,
   "metadata": {},
   "outputs": [],
   "source": [
    "list_res"
   ]
  },
  {
   "cell_type": "code",
   "execution_count": null,
   "metadata": {},
   "outputs": [],
   "source": [
    "for i in range(5):\n",
    "    assign_DRT(random_list[i],list_res[i] ,g)"
   ]
  },
  {
   "cell_type": "code",
   "execution_count": null,
   "metadata": {},
   "outputs": [],
   "source": [
    "Random_acc = np.array(g.get_acc()[1])"
   ]
  },
  {
   "cell_type": "code",
   "execution_count": null,
   "metadata": {},
   "outputs": [],
   "source": [
    "Random_acc"
   ]
  },
  {
   "cell_type": "code",
   "execution_count": null,
   "metadata": {},
   "outputs": [],
   "source": [
    "l2=plt.scatter(Initial_acc,Opt_acc,color='red',s = 5,label='Greedy Algo.')\n",
    "l3=plt.scatter(Initial_acc,Random_acc,color='black',s = 5,label='Random Algo.')\n",
    "plt.xlabel('acc_before')\n",
    "plt.ylabel('acc_after')\n",
    "plt.legend(loc='upper left')\n",
    "plt.show()"
   ]
  },
  {
   "cell_type": "code",
   "execution_count": null,
   "metadata": {},
   "outputs": [],
   "source": [
    "np.mean(Initial_acc)"
   ]
  },
  {
   "cell_type": "code",
   "execution_count": null,
   "metadata": {},
   "outputs": [],
   "source": [
    "np.mean(Random_acc)"
   ]
  },
  {
   "cell_type": "code",
   "execution_count": null,
   "metadata": {},
   "outputs": [],
   "source": [
    "np.mean(Opt_acc)"
   ]
  },
  {
   "cell_type": "code",
   "execution_count": null,
   "metadata": {},
   "outputs": [],
   "source": [
    "import seaborn as sns\n",
    "#create scatterplot with regression line and confidence interval lines\n",
    "sns.regplot(Initial_acc, Opt_acc,label='Greedy Algo.',order=2, marker=\"+\" , scatter_kws={\"s\": 5,\"color\":'red'},line_kws={\"lw\":1, 'linestyle':'--','label': 'Greedy Algo. line',\"color\":'r'})\n",
    "sns.regplot(Initial_acc, Random_acc,label='Random Algo.',order=2, marker='o' , scatter_kws={\"s\": 5,\"color\":'black'},line_kws={\"lw\":1, 'linestyle':'-','label': 'Random Algo. line',\"color\":'black'})\n",
    "plt.legend(loc='best')\n",
    "\n",
    "plt.xlabel('acc_before')\n",
    "plt.ylabel('acc_after')\n",
    "plt.show()"
   ]
  },
  {
   "cell_type": "code",
   "execution_count": null,
   "metadata": {},
   "outputs": [],
   "source": [
    "Opt_acc_polulation =  []\n",
    "Random_acc_polulation = []\n",
    "for i in range(len(Opt_acc)):\n",
    "    polu_ = math.ceil( list(center_polulation.values())[i] )\n",
    "    for j in range(polu_):\n",
    "        Opt_acc_polulation.append( Opt_acc[i] )\n",
    "        Random_acc_polulation.append( Random_acc[i] )\n",
    "\n",
    "def findex(list_x):\n",
    "    list_x = np.array(list_x)\n",
    "    list_x.sort()\n",
    "    \n",
    "    y_mean = np.mean( list_x )   \n",
    "    sum_ = 0.\n",
    "    for i in range( len(list_x) ):\n",
    "        sum_ = sum_ + list_x[i]**(-1) \n",
    "    sum_ = 1 - (sum_/len(list_x))**(-1)/y_mean\n",
    "    \n",
    "    p = math.ceil(len(list_x)/10)\n",
    "    \n",
    "    return [np.mean(list_x[:p]),np.mean(list_x),sum_]"
   ]
  },
  {
   "cell_type": "code",
   "execution_count": null,
   "metadata": {},
   "outputs": [],
   "source": [
    "findex(Opt_acc_polulation)"
   ]
  },
  {
   "cell_type": "code",
   "execution_count": null,
   "metadata": {},
   "outputs": [],
   "source": [
    "findex(Random_acc_polulation)"
   ]
  },
  {
   "cell_type": "code",
   "execution_count": null,
   "metadata": {},
   "outputs": [],
   "source": [
    "Initial_polulation =  []\n",
    "for i in range(len(Opt_acc)):\n",
    "    polu_ = math.ceil( list(center_polulation.values())[i] )\n",
    "    for j in range(polu_):\n",
    "        Initial_polulation.append( Initial_acc[i] )\n",
    "\n",
    "def findex(list_x):\n",
    "    list_x = np.array(list_x)\n",
    "    list_x.sort()\n",
    "    \n",
    "    y_mean = np.mean( list_x )   \n",
    "    sum_ = 0.\n",
    "    for i in range( len(list_x) ):\n",
    "        sum_ = sum_ + list_x[i]**(-1) \n",
    "    sum_ = 1 - (sum_/len(list_x))**(-1)/y_mean\n",
    "    \n",
    "    p = math.ceil(len(list_x)/10)\n",
    "    \n",
    "    return [np.mean(list_x[:p]),np.mean(list_x),sum_]"
   ]
  },
  {
   "cell_type": "code",
   "execution_count": null,
   "metadata": {},
   "outputs": [],
   "source": [
    "findex(Initial_polulation)"
   ]
  },
  {
   "cell_type": "code",
   "execution_count": null,
   "metadata": {},
   "outputs": [],
   "source": []
  },
  {
   "cell_type": "code",
   "execution_count": null,
   "metadata": {},
   "outputs": [],
   "source": [
    "Original PT:\n",
    "    Area : 45 km X 45 km\n",
    "    MRT spacting : 4km-5km\n",
    "    centroid spacing : 5km\n",
    "    MRT dwell time : 1 min/per stop\n",
    "    \n",
    "    MRT speed : 60 km/h\n",
    "    walking speed : 4.5 km/h\n",
    "    \n",
    "    6 MRT lines and 10 stations per line\n",
    "    \n",
    "    demand density:  pho = 480 * exp( -0.12 * x ), where x is \n",
    "                                                distance from center \n",
    "                                                (persons/(km^2*h) )\n",
    "\n",
    "DRT:\n",
    "    DRT speed : 25 km/h\n",
    "    w = 1 km\n",
    "    l = 1 km\n",
    "    tau_s = 30/3600 h or 30 s\n",
    "    tau_p = 2/3600 h or 2 s\n",
    "    tau_T = 60/3600 h or 60 s\n",
    "\n",
    "Result:\n",
    "    Walking cost : 30 mins\n",
    "    If we allocate DRT numbers : \n",
    "        2 buses -> time cost negative\n",
    "        3 buses -> time cost 10 mins\n",
    "        4 buses -> time cost 4 mins"
   ]
  },
  {
   "cell_type": "code",
   "execution_count": null,
   "metadata": {},
   "outputs": [],
   "source": []
  },
  {
   "cell_type": "code",
   "execution_count": null,
   "metadata": {},
   "outputs": [],
   "source": []
  },
  {
   "cell_type": "code",
   "execution_count": null,
   "metadata": {},
   "outputs": [],
   "source": []
  },
  {
   "cell_type": "code",
   "execution_count": null,
   "metadata": {},
   "outputs": [],
   "source": []
  },
  {
   "cell_type": "code",
   "execution_count": null,
   "metadata": {},
   "outputs": [],
   "source": []
  },
  {
   "cell_type": "code",
   "execution_count": null,
   "metadata": {},
   "outputs": [],
   "source": []
  },
  {
   "cell_type": "code",
   "execution_count": null,
   "metadata": {},
   "outputs": [],
   "source": []
  },
  {
   "cell_type": "code",
   "execution_count": null,
   "metadata": {},
   "outputs": [],
   "source": []
  },
  {
   "cell_type": "code",
   "execution_count": null,
   "metadata": {},
   "outputs": [],
   "source": []
  }
 ],
 "metadata": {
  "kernelspec": {
   "display_name": "Python 3",
   "language": "python",
   "name": "python3"
  },
  "language_info": {
   "codemirror_mode": {
    "name": "ipython",
    "version": 3
   },
   "file_extension": ".py",
   "mimetype": "text/x-python",
   "name": "python",
   "nbconvert_exporter": "python",
   "pygments_lexer": "ipython3",
   "version": "3.7.1"
  }
 },
 "nbformat": 4,
 "nbformat_minor": 2
}
